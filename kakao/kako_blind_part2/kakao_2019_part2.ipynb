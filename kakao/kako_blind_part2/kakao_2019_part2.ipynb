{
 "cells": [
  {
   "cell_type": "code",
   "execution_count": 21,
   "source": [
    "url = \"http://172.30.1.27:8000\""
   ],
   "outputs": [],
   "metadata": {}
  },
  {
   "cell_type": "code",
   "execution_count": 22,
   "source": [
    "import requests\n",
    "import json\n",
    "\n",
    "def start(user, problem, count):\n",
    "    uri = url + \"/start\" + \"/\" + user + \"/\" + str(problem) + \"/\" + str(count)\n",
    "    return requests.post(uri).json()\n",
    "\n",
    "\n",
    "def oncalls(token):\n",
    "    uri = url + \"/oncalls\"\n",
    "    res=  requests.get(uri, headers={\"X-Auth-Token\": token})\n",
    "    try:\n",
    "        return res.json()\n",
    "    except:\n",
    "        print(res.text)\n",
    "\n",
    "\n",
    "def action(token, cmds):\n",
    "    uri = url + \"/action\"\n",
    "    res =  requests.post(uri, headers={\"X-Auth-Token\": token,'Content-Type': 'application/json'}, json={\"commands\": cmds})\n",
    "    try:\n",
    "        return res.json()\n",
    "    except:\n",
    "        print(res.text)\n",
    "\n",
    "def makeCommand(id,cmd,calls=None):\n",
    "    if calls:\n",
    "        return {'elevator_id': id, 'command': cmd, 'call_ids':calls} \n",
    "    return {'elevator_id': id, 'command': cmd}\n"
   ],
   "outputs": [],
   "metadata": {}
  },
  {
   "cell_type": "code",
   "execution_count": 23,
   "source": [
    "# action(token,[makeCommand(0,'OPEN')])\n",
    "# oncalls(token)\n",
    "# action(token,[makeCommand(0,'ENTER',calls=[3])])\n",
    "# oncalls(token)"
   ],
   "outputs": [],
   "metadata": {}
  },
  {
   "cell_type": "code",
   "execution_count": 247,
   "source": [
    "def init(problem):\n",
    "    global c_inf\n",
    "    user = \"tester3\"\n",
    "    problem = problem\n",
    "\n",
    "\n",
    "    ret = start(user, problem, count)\n",
    "    token = ret[\"token\"]\n",
    "    print(\"Token for %s is %s\" % (user, token))\n",
    "    c_inf = oncalls(token)\n",
    "    for e in c_inf['elevators']:\n",
    "        elev[e['id']]['target'] = None\n",
    "    \n",
    "    return token\n",
    "    \n",
    "def exitNum(el,fl):\n",
    "    ex_calls = []\n",
    "    for p in el['passengers']:\n",
    "        if p['end']==fl:\n",
    "            ex_calls.append(p['id'])\n",
    "    return ex_calls        \n",
    "\n",
    "\n",
    "def doNothing(st):\n",
    "    if st=='OPENED':\n",
    "        return \"CLOSE\"\n",
    "    else:\n",
    "        return \"STOP\"\n",
    "        \n",
    "def doElv(i,e):\n",
    "    fl = e['floor']\n",
    "    st = e['status']\n",
    "    \n",
    "    if not elev[i]['target']:\n",
    "        return makeCommand(i,'STOP')\n",
    "    \n",
    "    if not elev[i]['target'] and len(e['passengers'])==0:\n",
    "        q.append(e['id'])\n",
    "    \n",
    "    new_st = ''\n",
    "    if elev[i]['target'] > fl :\n",
    "        new_st = 'UP'\n",
    "    else:\n",
    "        new_st = 'DOWN'\n",
    "        \n",
    "         \n",
    "    if ( len(calls[fl]) == 0 or len(e['passengers']) >=8 ) and len(exitNum(e,fl))==0:\n",
    "        if elev[i]['target'] == fl:\n",
    "            if len(e['passengers'])==0:\n",
    "                elev[i]['target'] = None\n",
    "                q.append(i)\n",
    "                return makeCommand(i,doNothing(st))\n",
    "            else:\n",
    "                elev[i]['target'] = e['passengers'][0]['end']\n",
    "                \n",
    "        \n",
    "        if st=='UPWARD' or st=='DOWNWARD':\n",
    "            if new_st == st.replace('WARD',''):\n",
    "                return makeCommand(i,new_st)\n",
    "            else:\n",
    "                return makeCommand(i,'STOP')\n",
    "            \n",
    "        if st=='OPENED':\n",
    "            return makeCommand(i,'CLOSE')\n",
    "        if st=='STOPPED':\n",
    "            return makeCommand(i,new_st)\n",
    "    \n",
    "    if len(e['passengers'])>=8:\n",
    "        if len(exitNum(e,fl))==0:\n",
    "            new_st = ''\n",
    "            if elev[i]['target'] > fl :\n",
    "                new_st = 'UP'\n",
    "            elif elev[i]['target']<fl:\n",
    "                new_st = 'DOWN'\n",
    "            \n",
    "            if st=='UPWARD' or st=='DOWNWARD':\n",
    "                return makeCommand(i,st.replace('WARD',''))\n",
    "            if st=='OPENED':\n",
    "                return makeCommand(i,'CLOSE')\n",
    "            if st=='STOPPED':\n",
    "                return makeCommand(i,new_st)\n",
    "    \n",
    "    \n",
    "    if st=='UPWARD' or st=='DOWNWARD':\n",
    "        return makeCommand(i,'STOP')\n",
    "    if st=='STOPPED':\n",
    "        return makeCommand(i,'OPEN')\n",
    "    if st=='OPENED':\n",
    "        if len(exitNum(e,fl))!=0:\n",
    "            return makeCommand(i,'EXIT',calls=exitNum(e,fl))\n",
    "        else:\n",
    "            if len(e['passengers']) + len(calls[fl]) > 8:\n",
    "                makeCommand(i,'ENTER',calls=calls[fl][: 8 - len(e['passengers'])])\n",
    "            return makeCommand(i,'ENTER',calls=calls[fl])\n",
    "\n",
    "\n",
    "    \n",
    "def setElv():\n",
    "    global calls\n",
    "    calls = [[] for _ in range(30)]\n",
    "    \n",
    "    for c in c_inf['calls']:\n",
    "        calls[c['start']].append(c['id'])\n",
    "        e = c_inf['elevators']\n",
    "        for i in range(count):\n",
    "            if i in q:\n",
    "                continue\n",
    "        \n",
    "        # 새로 할당\n",
    "        if len(q)!=0:\n",
    "            p = q.pop()\n",
    "            elev[p]['target'] = c['start']\n"
   ],
   "outputs": [],
   "metadata": {}
  },
  {
   "cell_type": "code",
   "execution_count": 254,
   "source": [
    "count = 4\n",
    "\n",
    "elev = [{} for _ in range(count)]\n",
    "cmd = [ [] for _ in range(count)]\n",
    "calls = [[] for _ in range(30)]\n",
    "q = [i for i in range(count)]\n",
    "accept_calls = []\n",
    "\n",
    "c_inf = \"\"\n",
    "token = init(2)\n",
    "\n",
    "print(c_inf)"
   ],
   "outputs": [
    {
     "output_type": "stream",
     "name": "stdout",
     "text": [
      "Token for tester3 is ifbQA\n",
      "{'token': 'ifbQA', 'timestamp': 0, 'elevators': [{'id': 0, 'floor': 1, 'passengers': [], 'status': 'STOPPED'}, {'id': 1, 'floor': 1, 'passengers': [], 'status': 'STOPPED'}, {'id': 2, 'floor': 1, 'passengers': [], 'status': 'STOPPED'}, {'id': 3, 'floor': 1, 'passengers': [], 'status': 'STOPPED'}], 'calls': [{'id': 0, 'timestamp': 0, 'start': 1, 'end': 13}], 'is_end': False}\n"
     ]
    }
   ],
   "metadata": {}
  },
  {
   "cell_type": "code",
   "execution_count": 257,
   "source": [
    "from tqdm import tqdm\n",
    "for _ in tqdm(range(3000)):\n",
    "    setElv()\n",
    "    cmd = []\n",
    "    for i,e in enumerate(c_inf['elevators']):\n",
    "        cmd.append(doElv(e=e,i=i))\n",
    "    #print(cmd)\n",
    "    action(token,cmd)\n",
    "    c_inf = oncalls(token)\n",
    "    #print(\"elv:\", c_inf['elevators'])\n",
    "    #print(\"calls:\" , c_inf['calls'])\n",
    "    if c_inf['is_end']==True:\n",
    "        print(c_inf['timestamp'])\n",
    "        break"
   ],
   "outputs": [
    {
     "output_type": "stream",
     "name": "stderr",
     "text": [
      "  3%|▎         | 34/1000 [00:01<00:30, 31.83it/s]"
     ]
    },
    {
     "output_type": "stream",
     "name": "stdout",
     "text": [
      "No passenger for 287\n",
      "\n",
      "No passenger for 285\n",
      "\n"
     ]
    },
    {
     "output_type": "stream",
     "name": "stderr",
     "text": [
      "  9%|▉         | 88/1000 [00:02<00:30, 29.49it/s]"
     ]
    },
    {
     "output_type": "stream",
     "name": "stdout",
     "text": [
      "No passenger for 296\n",
      "\n"
     ]
    },
    {
     "output_type": "stream",
     "name": "stderr",
     "text": [
      " 11%|█         | 111/1000 [00:03<00:29, 30.32it/s]"
     ]
    },
    {
     "output_type": "stream",
     "name": "stdout",
     "text": [
      "No passenger for 318\n",
      "\n"
     ]
    },
    {
     "output_type": "stream",
     "name": "stderr",
     "text": [
      " 12%|█▏        | 119/1000 [00:03<00:28, 30.69it/s]"
     ]
    },
    {
     "output_type": "stream",
     "name": "stdout",
     "text": [
      "No passenger for 313\n",
      "\n"
     ]
    },
    {
     "output_type": "stream",
     "name": "stderr",
     "text": [
      " 13%|█▎        | 127/1000 [00:04<00:28, 31.08it/s]"
     ]
    },
    {
     "output_type": "stream",
     "name": "stdout",
     "text": [
      "No passenger for 310\n",
      "\n"
     ]
    },
    {
     "output_type": "stream",
     "name": "stderr",
     "text": [
      " 14%|█▍        | 139/1000 [00:04<00:27, 31.46it/s]"
     ]
    },
    {
     "output_type": "stream",
     "name": "stdout",
     "text": [
      "No passenger for 324\n",
      "\n"
     ]
    },
    {
     "output_type": "stream",
     "name": "stderr",
     "text": [
      " 15%|█▍        | 147/1000 [00:04<00:27, 31.42it/s]"
     ]
    },
    {
     "output_type": "stream",
     "name": "stdout",
     "text": [
      "No passenger for 332\n",
      "\n"
     ]
    },
    {
     "output_type": "stream",
     "name": "stderr",
     "text": [
      " 16%|█▌        | 159/1000 [00:05<00:26, 31.38it/s]"
     ]
    },
    {
     "output_type": "stream",
     "name": "stdout",
     "text": [
      "No passenger for 329\n",
      "\n"
     ]
    },
    {
     "output_type": "stream",
     "name": "stderr",
     "text": [
      " 17%|█▋        | 167/1000 [00:05<00:25, 32.05it/s]"
     ]
    },
    {
     "output_type": "stream",
     "name": "stdout",
     "text": [
      "No passenger for 326\n",
      "\n"
     ]
    },
    {
     "output_type": "stream",
     "name": "stderr",
     "text": [
      " 20%|█▉        | 199/1000 [00:06<00:25, 31.05it/s]"
     ]
    },
    {
     "output_type": "stream",
     "name": "stdout",
     "text": [
      "No passenger for 338\n",
      "\n"
     ]
    },
    {
     "output_type": "stream",
     "name": "stderr",
     "text": [
      " 21%|██        | 207/1000 [00:06<00:26, 29.83it/s]"
     ]
    },
    {
     "output_type": "stream",
     "name": "stdout",
     "text": [
      "No passenger for 337\n",
      "\n"
     ]
    },
    {
     "output_type": "stream",
     "name": "stderr",
     "text": [
      " 21%|██▏       | 213/1000 [00:06<00:27, 29.03it/s]"
     ]
    },
    {
     "output_type": "stream",
     "name": "stdout",
     "text": [
      "No passenger for 341\n",
      "\n"
     ]
    },
    {
     "output_type": "stream",
     "name": "stderr",
     "text": [
      " 22%|██▏       | 219/1000 [00:07<00:27, 28.36it/s]"
     ]
    },
    {
     "output_type": "stream",
     "name": "stdout",
     "text": [
      "No passenger for 342\n",
      "\n",
      "No passenger for 340\n",
      "\n"
     ]
    },
    {
     "output_type": "stream",
     "name": "stderr",
     "text": [
      " 29%|██▉       | 292/1000 [00:09<00:22, 31.40it/s]"
     ]
    },
    {
     "output_type": "stream",
     "name": "stdout",
     "text": [
      "No passenger for 361\n",
      "\n"
     ]
    },
    {
     "output_type": "stream",
     "name": "stderr",
     "text": [
      " 35%|███▍      | 346/1000 [00:11<00:23, 27.80it/s]"
     ]
    },
    {
     "output_type": "stream",
     "name": "stdout",
     "text": [
      "No passenger for 374\n",
      "\n"
     ]
    },
    {
     "output_type": "stream",
     "name": "stderr",
     "text": [
      " 41%|████      | 412/1000 [00:13<00:19, 30.71it/s]"
     ]
    },
    {
     "output_type": "stream",
     "name": "stdout",
     "text": [
      "No passenger for 387\n",
      "\n"
     ]
    },
    {
     "output_type": "stream",
     "name": "stderr",
     "text": [
      " 42%|████▏     | 422/1000 [00:14<00:20, 28.03it/s]"
     ]
    },
    {
     "output_type": "stream",
     "name": "stdout",
     "text": [
      "No passenger for 389\n",
      "\n"
     ]
    },
    {
     "output_type": "stream",
     "name": "stderr",
     "text": [
      " 43%|████▎     | 431/1000 [00:14<00:20, 27.34it/s]"
     ]
    },
    {
     "output_type": "stream",
     "name": "stdout",
     "text": [
      "No passenger for 394\n",
      "\n"
     ]
    },
    {
     "output_type": "stream",
     "name": "stderr",
     "text": [
      " 48%|████▊     | 476/1000 [00:16<00:20, 25.33it/s]"
     ]
    },
    {
     "output_type": "stream",
     "name": "stdout",
     "text": [
      "No passenger for 410\n",
      "\n"
     ]
    },
    {
     "output_type": "stream",
     "name": "stderr",
     "text": [
      " 48%|████▊     | 482/1000 [00:16<00:20, 25.79it/s]"
     ]
    },
    {
     "output_type": "stream",
     "name": "stdout",
     "text": [
      "No passenger for 406\n",
      "\n",
      "No passenger for 402\n",
      "\n"
     ]
    },
    {
     "output_type": "stream",
     "name": "stderr",
     "text": [
      " 50%|████▉     | 498/1000 [00:17<00:15, 31.89it/s]"
     ]
    },
    {
     "output_type": "stream",
     "name": "stdout",
     "text": [
      "No passenger for 396\n",
      "\n"
     ]
    },
    {
     "output_type": "stream",
     "name": "stderr",
     "text": [
      " 51%|█████▏    | 514/1000 [00:17<00:15, 31.26it/s]"
     ]
    },
    {
     "output_type": "stream",
     "name": "stdout",
     "text": [
      "No passenger for 412\n",
      "\n"
     ]
    },
    {
     "output_type": "stream",
     "name": "stderr",
     "text": [
      " 52%|█████▏    | 522/1000 [00:17<00:15, 30.28it/s]"
     ]
    },
    {
     "output_type": "stream",
     "name": "stdout",
     "text": [
      "No passenger for 408\n",
      "\n"
     ]
    },
    {
     "output_type": "stream",
     "name": "stderr",
     "text": [
      " 53%|█████▎    | 530/1000 [00:18<00:15, 30.36it/s]"
     ]
    },
    {
     "output_type": "stream",
     "name": "stdout",
     "text": [
      "No passenger for 409\n",
      "\n"
     ]
    },
    {
     "output_type": "stream",
     "name": "stderr",
     "text": [
      " 54%|█████▍    | 542/1000 [00:18<00:14, 31.14it/s]"
     ]
    },
    {
     "output_type": "stream",
     "name": "stdout",
     "text": [
      "No passenger for 419\n",
      "\n",
      "No passenger for 422\n",
      "\n"
     ]
    },
    {
     "output_type": "stream",
     "name": "stderr",
     "text": [
      " 56%|█████▌    | 562/1000 [00:19<00:14, 30.59it/s]"
     ]
    },
    {
     "output_type": "stream",
     "name": "stdout",
     "text": [
      "No passenger for 421\n",
      "\n"
     ]
    },
    {
     "output_type": "stream",
     "name": "stderr",
     "text": [
      " 58%|█████▊    | 578/1000 [00:19<00:13, 31.26it/s]"
     ]
    },
    {
     "output_type": "stream",
     "name": "stdout",
     "text": [
      "No passenger for 425\n",
      "\n",
      "No passenger for 423\n",
      "\n"
     ]
    },
    {
     "output_type": "stream",
     "name": "stderr",
     "text": [
      " 66%|██████▌   | 658/1000 [00:22<00:11, 30.56it/s]"
     ]
    },
    {
     "output_type": "stream",
     "name": "stdout",
     "text": [
      "No passenger for 451\n",
      "\n"
     ]
    },
    {
     "output_type": "stream",
     "name": "stderr",
     "text": [
      " 69%|██████▉   | 694/1000 [00:23<00:10, 29.75it/s]"
     ]
    },
    {
     "output_type": "stream",
     "name": "stdout",
     "text": [
      "No passenger for 462\n",
      "\n"
     ]
    },
    {
     "output_type": "stream",
     "name": "stderr",
     "text": [
      " 71%|███████▏  | 713/1000 [00:23<00:09, 30.19it/s]"
     ]
    },
    {
     "output_type": "stream",
     "name": "stdout",
     "text": [
      "No passenger for 467\n",
      "\n"
     ]
    },
    {
     "output_type": "stream",
     "name": "stderr",
     "text": [
      " 78%|███████▊  | 776/1000 [00:26<00:07, 30.15it/s]"
     ]
    },
    {
     "output_type": "stream",
     "name": "stdout",
     "text": [
      "No passenger for 480\n",
      "\n"
     ]
    },
    {
     "output_type": "stream",
     "name": "stderr",
     "text": [
      " 79%|███████▉  | 788/1000 [00:26<00:07, 30.14it/s]"
     ]
    },
    {
     "output_type": "stream",
     "name": "stdout",
     "text": [
      "No passenger for 477\n",
      "\n"
     ]
    },
    {
     "output_type": "stream",
     "name": "stderr",
     "text": [
      " 80%|███████▉  | 796/1000 [00:26<00:06, 31.13it/s]"
     ]
    },
    {
     "output_type": "stream",
     "name": "stdout",
     "text": [
      "No passenger for 486\n",
      "\n"
     ]
    },
    {
     "output_type": "stream",
     "name": "stderr",
     "text": [
      " 84%|████████▎ | 836/1000 [00:27<00:05, 30.90it/s]"
     ]
    },
    {
     "output_type": "stream",
     "name": "stdout",
     "text": [
      "No passenger for 496\n",
      "\n"
     ]
    },
    {
     "output_type": "stream",
     "name": "stderr",
     "text": [
      " 86%|████████▌ | 860/1000 [00:28<00:04, 31.85it/s]"
     ]
    },
    {
     "output_type": "stream",
     "name": "stdout",
     "text": [
      "No passenger for 498\n",
      "\n",
      "No passenger for 499\n",
      "\n"
     ]
    },
    {
     "output_type": "stream",
     "name": "stderr",
     "text": [
      " 88%|████████▊ | 875/1000 [00:29<00:04, 29.89it/s]"
     ]
    },
    {
     "output_type": "stream",
     "name": "stdout",
     "text": [
      "1885\n"
     ]
    },
    {
     "output_type": "stream",
     "name": "stderr",
     "text": [
      "\n"
     ]
    }
   ],
   "metadata": {}
  },
  {
   "cell_type": "code",
   "execution_count": 252,
   "source": [
    "print((c_inf['elevators'][3]))\n",
    "print(cmd)\n",
    "print(elev)\n",
    "print(len(c_inf['calls']))\n",
    "print(q)"
   ],
   "outputs": [
    {
     "output_type": "stream",
     "name": "stdout",
     "text": [
      "{'id': 3, 'floor': 24, 'passengers': [], 'status': 'STOPPED'}\n",
      "[{'elevator_id': 0, 'command': 'DOWN'}, {'elevator_id': 1, 'command': 'STOP'}, {'elevator_id': 2, 'command': 'STOP'}, {'elevator_id': 3, 'command': 'STOP'}]\n",
      "[{'target': 19}, {'target': None}, {'target': None}, {'target': None}]\n",
      "0\n",
      "[1, 2, 3]\n"
     ]
    }
   ],
   "metadata": {}
  },
  {
   "cell_type": "code",
   "execution_count": 203,
   "source": [
    "exitNum(c_inf['elevators'][3],19)"
   ],
   "outputs": [
    {
     "output_type": "execute_result",
     "data": {
      "text/plain": [
       "[199, 199, 199, 199, 199, 199, 199, 199]"
      ]
     },
     "metadata": {},
     "execution_count": 203
    }
   ],
   "metadata": {}
  },
  {
   "cell_type": "code",
   "execution_count": null,
   "source": [],
   "outputs": [],
   "metadata": {}
  }
 ],
 "metadata": {
  "orig_nbformat": 4,
  "language_info": {
   "name": "python",
   "version": "3.9.5",
   "mimetype": "text/x-python",
   "codemirror_mode": {
    "name": "ipython",
    "version": 3
   },
   "pygments_lexer": "ipython3",
   "nbconvert_exporter": "python",
   "file_extension": ".py"
  },
  "kernelspec": {
   "name": "python3",
   "display_name": "Python 3.9.5 64-bit ('base': conda)"
  },
  "interpreter": {
   "hash": "95ec9ec1504d83f612128e0fb229072f90bbb4cb09d9d5d93b5dd26e0ca2cfd1"
  }
 },
 "nbformat": 4,
 "nbformat_minor": 2
}