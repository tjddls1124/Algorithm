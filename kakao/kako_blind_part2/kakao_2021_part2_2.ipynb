{
 "cells": [
  {
   "cell_type": "code",
   "execution_count": 1,
   "metadata": {},
   "outputs": [],
   "source": [
    "import requests\n",
    "import json\n",
    "\n",
    "x_auth_token = '9bf7641735e6561359dd5bba2017cc07'\n",
    "base_url = 'https://kox947ka1a.execute-api.ap-northeast-2.amazonaws.com/prod/users'\n",
    "\n",
    "\n",
    "header = {'X-Auth-Token':x_auth_token, 'Content-Type': 'application/json'}\n",
    "data = {'problem':2}\n",
    "\n",
    "res = requests.post(base_url+\"/start\",data=json.dumps(data), headers=header)\n",
    "\n",
    "auth_key = res.json()['auth_key']\n"
   ]
  },
  {
   "cell_type": "code",
   "execution_count": 2,
   "metadata": {},
   "outputs": [],
   "source": [
    "\n",
    "def getInfo(st):\n",
    "    #locations, trucks, score\n",
    "    h = {'Authorization':auth_key, 'Content-Type': 'application/json' }\n",
    "    return requests.get(base_url+\"/\"+st,headers= h).json()\n",
    "\n",
    "def simulate(command):\n",
    "    h = {'Authorization':auth_key, 'Content-Type': 'application/json' }\n",
    "    data = {\"commands\": command}\n",
    "    return requests.put(base_url+\"/simulate\",data=json.dumps(data), headers=h).json()\n",
    "\n",
    "NO = 0\n",
    "UP = 1\n",
    "RIGHT = 2\n",
    "DOWN = 3\n",
    "LEFT = 4\n",
    "LOAD = 5\n",
    "UNLOAD = 6\n",
    "MAXSIZE = 60\n",
    "\n",
    "## Most-To-Least\n",
    "def goAtoB(a,b):\n",
    "    command = []\n",
    "    a_row = a//MAXSIZE\n",
    "    a_col = a%MAXSIZE\n",
    "    b_row = b//MAXSIZE\n",
    "    b_col = b%MAXSIZE\n",
    "    move = 0\n",
    "    if a_row < b_row:\n",
    "        move=RIGHT\n",
    "    else:\n",
    "        move=LEFT    \n",
    "    for i in range(abs(b_row - a_row)):\n",
    "        command.append(move)\n",
    "    \n",
    "    if a_col < b_col:\n",
    "        move=UP\n",
    "    else:\n",
    "        move=DOWN \n",
    "    for i in range(abs(b_col - a_col)):\n",
    "        command.append(move)\n",
    "        \n",
    "    return command\n",
    "\n",
    "def getMost(tid):\n",
    "    tmp = loc_arr[MAXSIZE*tid*6:MAXSIZE*(tid+1)*6]\n",
    "    return tmp.index(max(tmp)) + MAXSIZE*tid*6, max(tmp)\n",
    "    \n",
    "def getLeast(tid):\n",
    "    tmp = loc_arr[MAXSIZE*tid*6:MAXSIZE*(tid+1)*6]\n",
    "    return tmp.index(min(tmp)) + MAXSIZE*tid*6, min(tmp)\n",
    "    \n",
    "def setLoc():\n",
    "    arr = []\n",
    "    for v in getInfo(\"locations\")['locations']:\n",
    "        arr.append(v['located_bikes_count'])\n",
    "    return arr\n",
    "\n",
    "def setTruckLoc():\n",
    "    loc_arr = []\n",
    "    bike_arr = []\n",
    "    for v in getInfo(\"trucks\")['trucks']:\n",
    "        loc_arr.append(v['location_id'])\n",
    "        bike_arr.append(v['loaded_bikes_count'])\n",
    "    return loc_arr,bike_arr\n",
    "\n",
    "def moveToBase():\n",
    "    cmd = []\n",
    "    for i in range(10):\n",
    "        cmd.append(makeCommand(i, goAtoB(truck_loc_arr[i], i*MAXSIZE*6)))\n",
    "    return cmd\n",
    "\n",
    "\n",
    "\n",
    "def makeCommand(tid,command):\n",
    "    return {\"truck_id\":tid, \"command\":command}\n"
   ]
  },
  {
   "cell_type": "code",
   "execution_count": 3,
   "metadata": {},
   "outputs": [],
   "source": [
    "def cmdTruck(tid,target,load,t):\n",
    "    command = []\n",
    "    command.extend(goAtoB(truck_loc_arr[tid], target))\n",
    "    for _ in range(t):\n",
    "        command.append(load)\n",
    "    return command\n",
    "\n",
    "def doLoad(tid):\n",
    "    im, vm = getMost(tid)\n",
    "    il, vl = getLeast(tid)\n",
    "    t = 0\n",
    "    if vm-vl > 3:\n",
    "        t=2\n",
    "    elif vm-vl >= 2:\n",
    "        t=1\n",
    "    command = []\n",
    "    command.extend(goAtoB(truck_loc_arr[tid], im))\n",
    "    for _ in range(t):\n",
    "        command.append(LOAD)\n",
    "    \n",
    "    command.extend(goAtoB(im, il))\n",
    "    for _ in range(t):\n",
    "        command.append(UNLOAD)\n",
    "    return makeCommand(tid,command)\n",
    "    \n",
    "\n",
    "\n",
    "def doUnload(tid):\n",
    "    command = []\n",
    "    il,vl = getLeast(tid)\n",
    "    command.extend(goAtoB(truck_loc_arr[tid], il))\n",
    "    for _ in range(2):\n",
    "        command.append(UNLOAD)\n",
    "    \n",
    "    return makeCommand(tid,command)\n",
    "    "
   ]
  },
  {
   "cell_type": "code",
   "execution_count": 4,
   "metadata": {},
   "outputs": [
    {
     "data": {
      "text/plain": [
       "{'status': 'ready',\n",
       " 'time': 1,\n",
       " 'failed_requests_count': '0.0',\n",
       " 'distance': '8.6'}"
      ]
     },
     "execution_count": 4,
     "metadata": {},
     "output_type": "execute_result"
    }
   ],
   "source": [
    "truck_loc_arr, truck_bike_arr = setTruckLoc()\n",
    "loc_arr = setLoc() \n",
    "simulate(moveToBase())"
   ]
  },
  {
   "cell_type": "code",
   "execution_count": 5,
   "metadata": {},
   "outputs": [
    {
     "name": "stderr",
     "output_type": "stream",
     "text": [
      "100%|██████████| 719/719 [04:58<00:00,  2.41it/s]"
     ]
    },
    {
     "name": "stdout",
     "output_type": "stream",
     "text": [
      "{'status': 'finished', 'time': 720, 'failed_requests_count': '556.0', 'distance': '6205.5'}\n"
     ]
    },
    {
     "name": "stderr",
     "output_type": "stream",
     "text": [
      "\n"
     ]
    }
   ],
   "source": [
    "from tqdm import tqdm\n",
    "s = \"\"\n",
    "for _ in tqdm(range(719)):\n",
    "    cmd = []\n",
    "    truck_loc_arr, truck_bike_arr = setTruckLoc()\n",
    "    loc_arr = setLoc()    \n",
    "    for tid in range(10):\n",
    "        if truck_bike_arr[tid]!=0:\n",
    "            cmd.append(doUnload(tid))\n",
    "        else:\n",
    "            cmd.append(doLoad(tid))\n",
    "    s = simulate(cmd)\n",
    "\n",
    "print(s)"
   ]
  },
  {
   "cell_type": "code",
   "execution_count": 6,
   "metadata": {},
   "outputs": [
    {
     "data": {
      "text/plain": [
       "10273"
      ]
     },
     "execution_count": 6,
     "metadata": {},
     "output_type": "execute_result"
    }
   ],
   "source": [
    "10829-556"
   ]
  },
  {
   "cell_type": "code",
   "execution_count": 7,
   "metadata": {},
   "outputs": [
    {
     "name": "stdout",
     "output_type": "stream",
     "text": [
      "{'score': 635.6908714447318}\n"
     ]
    }
   ],
   "source": [
    "print(getInfo(\"score\"))"
   ]
  }
 ],
 "metadata": {
  "interpreter": {
   "hash": "95ec9ec1504d83f612128e0fb229072f90bbb4cb09d9d5d93b5dd26e0ca2cfd1"
  },
  "kernelspec": {
   "display_name": "Python 3.9.5 64-bit ('base': conda)",
   "name": "python3"
  },
  "language_info": {
   "codemirror_mode": {
    "name": "ipython",
    "version": 3
   },
   "file_extension": ".py",
   "mimetype": "text/x-python",
   "name": "python",
   "nbconvert_exporter": "python",
   "pygments_lexer": "ipython3",
   "version": "3.9.5"
  },
  "orig_nbformat": 4
 },
 "nbformat": 4,
 "nbformat_minor": 2
}
