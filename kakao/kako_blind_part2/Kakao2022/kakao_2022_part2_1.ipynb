{
 "cells": [
  {
   "cell_type": "code",
   "execution_count": 1,
   "metadata": {},
   "outputs": [
    {
     "ename": "KeyError",
     "evalue": "'auth_key'",
     "output_type": "error",
     "traceback": [
      "\u001b[0;31m---------------------------------------------------------------------------\u001b[0m",
      "\u001b[0;31mKeyError\u001b[0m                                  Traceback (most recent call last)",
      "\u001b[0;32m/var/folders/s0/jkxqqy3j1x31pztvpxvx_84h0000gn/T/ipykernel_1441/3060143449.py\u001b[0m in \u001b[0;36m<module>\u001b[0;34m\u001b[0m\n\u001b[1;32m     17\u001b[0m \u001b[0mres\u001b[0m \u001b[0;34m=\u001b[0m \u001b[0mrequests\u001b[0m\u001b[0;34m.\u001b[0m\u001b[0mpost\u001b[0m\u001b[0;34m(\u001b[0m\u001b[0mbase_url\u001b[0m\u001b[0;34m+\u001b[0m\u001b[0;34m\"/start\"\u001b[0m\u001b[0;34m,\u001b[0m\u001b[0mdata\u001b[0m\u001b[0;34m=\u001b[0m\u001b[0mjson\u001b[0m\u001b[0;34m.\u001b[0m\u001b[0mdumps\u001b[0m\u001b[0;34m(\u001b[0m\u001b[0mdata\u001b[0m\u001b[0;34m)\u001b[0m\u001b[0;34m,\u001b[0m \u001b[0mheaders\u001b[0m\u001b[0;34m=\u001b[0m\u001b[0mheader\u001b[0m\u001b[0;34m)\u001b[0m\u001b[0;34m\u001b[0m\u001b[0;34m\u001b[0m\u001b[0m\n\u001b[1;32m     18\u001b[0m \u001b[0;34m\u001b[0m\u001b[0m\n\u001b[0;32m---> 19\u001b[0;31m \u001b[0mauth_key\u001b[0m \u001b[0;34m=\u001b[0m \u001b[0mres\u001b[0m\u001b[0;34m.\u001b[0m\u001b[0mjson\u001b[0m\u001b[0;34m(\u001b[0m\u001b[0;34m)\u001b[0m\u001b[0;34m[\u001b[0m\u001b[0;34m'auth_key'\u001b[0m\u001b[0;34m]\u001b[0m\u001b[0;34m\u001b[0m\u001b[0;34m\u001b[0m\u001b[0m\n\u001b[0m",
      "\u001b[0;31mKeyError\u001b[0m: 'auth_key'"
     ]
    }
   ],
   "source": [
    "# kakao blind 2022 2차 코딩테스트\n",
    "# 최성인\n",
    "\n",
    "import requests\n",
    "import json\n",
    "\n",
    "x_auth_token = 'd74af3d99f4be7c9450f4a62859980ad'\n",
    "base_url = 'https://huqeyhi95c.execute-api.ap-northeast-2.amazonaws.com/prod'\n",
    "\n",
    "\n",
    "header = {'X-Auth-Token':x_auth_token, 'Content-Type': 'application/json'}\n",
    "data = {'problem':2} # 2\n",
    "num_users = 901\n",
    "rank_diff = 1000\n",
    "th_time = 7\n",
    "\n",
    "res = requests.post(base_url+\"/start\",data=json.dumps(data), headers=header)\n",
    "\n",
    "auth_key = res.json()['auth_key']\n"
   ]
  },
  {
   "cell_type": "code",
   "execution_count": 3,
   "metadata": {},
   "outputs": [],
   "source": [
    "def getInfo(inp):\n",
    "    # wating_line\n",
    "    # user_info\n",
    "    # game_result\n",
    "    h = {'Authorization':auth_key, 'Content-Type': 'application/json' }\n",
    "    return requests.get(base_url+\"/\"+inp,headers= h).json()\n",
    "\n",
    "def match(pairs):\n",
    "    h = {'Authorization':auth_key, 'Content-Type': 'application/json' }\n",
    "    data = {'pairs':pairs}\n",
    "    res = requests.put(base_url+\"/match\",data=json.dumps(data), headers=h)\n",
    "    return res.json()\n",
    "def changeGrade(cmd):\n",
    "    h = {'Authorization':auth_key, 'Content-Type': 'application/json' }\n",
    "    data = {'commands':cmd}\n",
    "    res = requests.put(base_url+\"/change_grade\",data=json.dumps(data), headers=h)\n",
    "    return res.json()\n",
    "\n",
    "def make_grade(id,grade):\n",
    "    return {'id':id,'grade':grade}"
   ]
  },
  {
   "cell_type": "code",
   "execution_count": 4,
   "metadata": {},
   "outputs": [],
   "source": [
    "def setGrade():\n",
    "    cmd = []\n",
    "    for i in range(1,num_users):\n",
    "        cmd.append({'id':i,'grade':grade[i]})\n",
    "    changeGrade(cmd)\n",
    "\n",
    "#init\n",
    "init_rank = 4000\n",
    "abuse_th = 5\n",
    "\n",
    "cmd = []\n",
    "for i in range(1,num_users):\n",
    "    cmd.append({'id':i,'grade':init_rank})\n",
    "changeGrade(cmd)\n",
    "\n",
    "grade = [0] * (num_users)\n",
    "match_count = [0] * num_users\n",
    "abusing = [0] * num_users\n",
    "\n",
    "matched = [[0] * num_users for _ in range(num_users)]\n",
    "\n",
    "for v in getInfo(\"user_info\")['user_info']:\n",
    "    grade[v['id']] = v['grade']\n"
   ]
  },
  {
   "cell_type": "code",
   "execution_count": 5,
   "metadata": {},
   "outputs": [],
   "source": [
    "def nearest(rank, wl,visited, p_id):\n",
    "    min_v = 10000\n",
    "    t_id = 0\n",
    "    # 50 이하라면 매칭수가 적은 순서로 매칭\n",
    "    \n",
    "    # nears = list(filter(lambda x: abs(grade[x['id']] - rank)<30, wl))\n",
    "    # if len(nears) != 0 :\n",
    "    #    return (min(nears,key=lambda x : matched[ x['id']][p_id]))['id']\n",
    "    \n",
    "    # 가장 점수가 가까운 순서로 매칭\n",
    "    for w in wl:\n",
    "        id = w['id']\n",
    "        if visited[id]:\n",
    "            continue\n",
    "        if min_v > abs(rank - grade[id]):\n",
    "            t_id = id\n",
    "            min_v = abs(rank - grade[id])\n",
    "    return t_id\n",
    "    \n",
    "def matching():\n",
    "    global cur\n",
    "    match_list = []\n",
    "    wl = getInfo('waiting_line')['waiting_line']\n",
    "    wl = sorted(wl,key= lambda x: -(cur - x['from']))\n",
    "    visited = [False]*num_users\n",
    "    while wl:\n",
    "        p = wl.pop()\n",
    "        if visited[p['id']]:\n",
    "            continue\n",
    "        visited[p['id']] = True\n",
    "        t_id = nearest(grade[p['id']],wl,visited,p['id'])\n",
    "        if (cur - p['from']) < th_time and abs(grade[t_id] - grade[p['id']]) > rank_diff:\n",
    "         continue\n",
    "        visited[t_id] = True\n",
    "        match_list.append([p['id'],t_id])\n",
    "        match_count[p['id']]+=1\n",
    "        match_count[t_id]+=1\n",
    "        matched[t_id][p['id']] += 1\n",
    "        matched[p['id']][t_id] += 1\n",
    "        \n",
    "    cur = match(match_list)['time']\n",
    "    \n",
    "def grading():\n",
    "    res = getInfo(\"game_result\")['game_result']\n",
    "    if len(res)==0:\n",
    "        return\n",
    "    \n",
    "    for r in res:\n",
    "        win = r['win']\n",
    "        lose = r['lose']\n",
    "        t_time = r['taken']\n",
    "        if 3<= t_time <= 10:\n",
    "            abusing[lose] += 1 #어뷰징 체크\n",
    "                    \n",
    "        grade_gap = abs(grade[win]-grade[lose]) // 10\n",
    "        if grade_gap == 0:\n",
    "            grade_gap = 1\n",
    "        lp = int((40 - t_time) * (1800 / 35))\n",
    "        if abusing[lose] > abuse_th or abusing[win] > abuse_th: #어뷰징인 경우 lp 반영x\n",
    "           continue\n",
    "        # if abusing[lose] > abuse_th and 3<=t_time<=10:\n",
    "            # lp = -lp\n",
    "        \n",
    "        \n",
    "        grade[lose] -= lp\n",
    "        grade[win] += lp\n",
    "        \n",
    "        grade[win] = min(grade[win],9999)\n",
    "        grade[lose] = max(grade[lose],0)"
   ]
  },
  {
   "cell_type": "code",
   "execution_count": 6,
   "metadata": {},
   "outputs": [
    {
     "name": "stderr",
     "output_type": "stream",
     "text": [
      "100%|██████████| 595/595 [05:42<00:00,  1.74it/s]\n"
     ]
    },
    {
     "data": {
      "text/plain": [
       "{'status': 'finished', 'time': 595}"
      ]
     },
     "execution_count": 6,
     "metadata": {},
     "output_type": "execute_result"
    }
   ],
   "source": [
    "from tqdm import tqdm\n",
    "for _ in tqdm(range(595)):\n",
    "    matching()\n",
    "    grading()\n",
    "setGrade()\n",
    "match([])"
   ]
  },
  {
   "cell_type": "code",
   "execution_count": 7,
   "metadata": {},
   "outputs": [
    {
     "data": {
      "text/plain": [
       "{'status': 'finished',\n",
       " 'efficiency_score': '98.7875',\n",
       " 'accuracy_score1': '50.2037',\n",
       " 'accuracy_score2': '63.618',\n",
       " 'score': '215.616'}"
      ]
     },
     "execution_count": 7,
     "metadata": {},
     "output_type": "execute_result"
    }
   ],
   "source": [
    "getInfo(\"score\")"
   ]
  },
  {
   "cell_type": "code",
   "execution_count": 8,
   "metadata": {},
   "outputs": [
    {
     "name": "stdout",
     "output_type": "stream",
     "text": [
      "1850.368584419488\n",
      "4096.297447280799\n"
     ]
    }
   ],
   "source": [
    "import numpy as np\n",
    "print(np.std(grade))\n",
    "print(np.mean(grade))"
   ]
  },
  {
   "cell_type": "code",
   "execution_count": 9,
   "metadata": {},
   "outputs": [
    {
     "data": {
      "text/plain": [
       "53"
      ]
     },
     "execution_count": 9,
     "metadata": {},
     "output_type": "execute_result"
    }
   ],
   "source": [
    "len(list(filter(lambda x : x > 0 , abusing)))"
   ]
  },
  {
   "cell_type": "code",
   "execution_count": 10,
   "metadata": {},
   "outputs": [
    {
     "data": {
      "text/plain": [
       "17.43840177580466"
      ]
     },
     "execution_count": 10,
     "metadata": {},
     "output_type": "execute_result"
    }
   ],
   "source": [
    "np.mean(match_count)"
   ]
  }
 ],
 "metadata": {
  "interpreter": {
   "hash": "c6e4e9f98eb68ad3b7c296f83d20e6de614cb42e90992a65aa266555a3137d0d"
  },
  "kernelspec": {
   "display_name": "Python 3.9.6 64-bit ('base': conda)",
   "name": "python3"
  },
  "language_info": {
   "codemirror_mode": {
    "name": "ipython",
    "version": 3
   },
   "file_extension": ".py",
   "mimetype": "text/x-python",
   "name": "python",
   "nbconvert_exporter": "python",
   "pygments_lexer": "ipython3",
   "version": "3.9.6"
  },
  "orig_nbformat": 4
 },
 "nbformat": 4,
 "nbformat_minor": 2
}
